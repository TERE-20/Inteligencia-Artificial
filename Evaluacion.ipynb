{
  "nbformat": 4,
  "nbformat_minor": 0,
  "metadata": {
    "colab": {
      "provenance": [],
      "toc_visible": true,
      "authorship_tag": "ABX9TyNWBYr3wIpaaDZMyQSFf21J",
      "include_colab_link": true
    },
    "kernelspec": {
      "name": "python3",
      "display_name": "Python 3"
    },
    "language_info": {
      "name": "python"
    }
  },
  "cells": [
    {
      "cell_type": "markdown",
      "metadata": {
        "id": "view-in-github",
        "colab_type": "text"
      },
      "source": [
        "<a href=\"https://colab.research.google.com/github/TERE-20/Inteligencia-Artificial/blob/main/Evaluacion.ipynb\" target=\"_parent\"><img src=\"https://colab.research.google.com/assets/colab-badge.svg\" alt=\"Open In Colab\"/></a>"
      ]
    },
    {
      "cell_type": "markdown",
      "source": [
        "**Evaluacion:**\n",
        "\n",
        "crear un notebook en colab a partir del programa base AND:\n",
        "\n",
        "modificar para que funcione con las dos compuertas AND y OR\n",
        "\n",
        "Criterios de aceptacion:\n",
        "\n",
        "\n",
        "\n",
        "el programa va a solicitar los valores del datashet para x0 y x1\n",
        "por lo cual la imprecion de resultados debe ser la compuerta AND y la compuerta OR(y).\n",
        "\n",
        "menu interactivo donde pregunte si quiere introducir otro datashet\n",
        "\n",
        "#Neurona aprendizaje compurta AND y OR\n",
        "\n",
        "**AND**                  \n",
        "\n",
        "0 0 --> 0\n",
        "\n",
        "0 1 --> 0\n",
        "\n",
        "1 0 --> 0\n",
        "\n",
        "1 1 --> 1\n",
        "\n",
        "\n",
        "\n",
        "**Or**\n",
        "\n",
        "0 0 --> 0\n",
        "\n",
        "0 1 --> 1\n",
        "\n",
        "1 0 --> 1\n",
        "\n",
        "1 1 --> 1\n",
        "\n"
      ],
      "metadata": {
        "id": "Y-x-sTh7yOcL"
      }
    },
    {
      "cell_type": "code",
      "source": [
        "valor_And= []\n",
        "valor_Or= []\n",
        "preg = \"si\"\n",
        "\n",
        "while preg == \"si\":\n",
        "  preg= input(\"¿Quiere ingresar datos?:\")\n",
        "\n",
        "  if preg == \"si\":\n",
        "    x0= int(input(\"insterte el primer valor de x0: \"))\n",
        "    x1= int(input(\"integre el segundo valor de x1: \"))\n",
        "    x = [int(x0),int(x1)]\n",
        "\n",
        "    # AND\n",
        "    w=[2,2]\n",
        "    s=-2.5\n",
        "    y=0\n",
        "\n",
        "    for i in range(0,2):\n",
        "      s=s+x[i]*w[i]\n",
        "    print(\"Resultados de AND:\")\n",
        "    print(s)\n",
        "    y=1 if s>0 else 0\n",
        "    print(x[0],'  ',x[1],'-->',y,  '\\n')\n",
        "    valor_And.append((x[0],x[1],y))\n",
        "\n",
        "    # OR\n",
        "    w=[4,4]\n",
        "    s=-3\n",
        "    y=0\n",
        "    for i in range(0,2):\n",
        "      s=s+x[i]*w[i]\n",
        "    print(\"Resultados de OR:\")\n",
        "    print(s)\n",
        "    y=1 if s>0 else 0\n",
        "    print(x[0],'  ',x[1],'-->',y,  '\\n')\n",
        "    valor_Or.append((x[0],x[1],y))\n",
        "\n",
        "  elif preg == \"no\":\n",
        "    print(\"No se ingresarán más datos\")\n",
        "  else:\n",
        "    print(\"Solo se acepta 'si' o 'no'\")\n",
        "\n"
      ],
      "metadata": {
        "id": "PIdNu7VkyQmb",
        "colab": {
          "base_uri": "https://localhost:8080/"
        },
        "outputId": "409956bb-f7ee-4c5f-8da3-cc761fa890ab"
      },
      "execution_count": 2,
      "outputs": [
        {
          "output_type": "stream",
          "name": "stdout",
          "text": [
            "¿Quiere ingresar datos?:si\n",
            "insterte el primer valor de x0: 0\n",
            "integre el segundo valor de x1: 0\n",
            "Resultados de AND:\n",
            "-2.5\n",
            "0    0 --> 0 \n",
            "\n",
            "Resultados de OR:\n",
            "-3\n",
            "0    0 --> 0 \n",
            "\n",
            "¿Quiere ingresar datos?:si\n",
            "insterte el primer valor de x0: 0\n",
            "integre el segundo valor de x1: 1\n",
            "Resultados de AND:\n",
            "-0.5\n",
            "0    1 --> 0 \n",
            "\n",
            "Resultados de OR:\n",
            "1\n",
            "0    1 --> 1 \n",
            "\n",
            "¿Quiere ingresar datos?:si\n",
            "insterte el primer valor de x0: 1\n",
            "integre el segundo valor de x1: 0\n",
            "Resultados de AND:\n",
            "-0.5\n",
            "1    0 --> 0 \n",
            "\n",
            "Resultados de OR:\n",
            "1\n",
            "1    0 --> 1 \n",
            "\n",
            "¿Quiere ingresar datos?:si\n",
            "insterte el primer valor de x0: 1\n",
            "integre el segundo valor de x1: 1\n",
            "Resultados de AND:\n",
            "1.5\n",
            "1    1 --> 1 \n",
            "\n",
            "Resultados de OR:\n",
            "5\n",
            "1    1 --> 1 \n",
            "\n",
            "¿Quiere ingresar datos?:no\n",
            "No se ingresarán más datos\n"
          ]
        }
      ]
    },
    {
      "cell_type": "code",
      "source": [
        "print(\"\\nAND:\")\n",
        "for i, (x0, x1, y) in enumerate(valor_And, 1):\n",
        "  print(f'{x0}   {x1} ---> {y} \\n')\n",
        "\n",
        "print(\"OR:\")\n",
        "for i, (x0, x1, y) in enumerate(valor_Or, 1):\n",
        "  print(f'{x0}   {x1} ---> {y} \\n')"
      ],
      "metadata": {
        "colab": {
          "base_uri": "https://localhost:8080/"
        },
        "id": "bfhAH9jTrk4G",
        "outputId": "76a68ba3-12d3-44f5-d788-59ce6fd8d2b6"
      },
      "execution_count": 3,
      "outputs": [
        {
          "output_type": "stream",
          "name": "stdout",
          "text": [
            "\n",
            "AND:\n",
            "0   0 ---> 0 \n",
            "\n",
            "0   1 ---> 0 \n",
            "\n",
            "1   0 ---> 0 \n",
            "\n",
            "1   1 ---> 1 \n",
            "\n",
            "OR:\n",
            "0   0 ---> 0 \n",
            "\n",
            "0   1 ---> 1 \n",
            "\n",
            "1   0 ---> 1 \n",
            "\n",
            "1   1 ---> 1 \n",
            "\n"
          ]
        }
      ]
    }
  ]
}