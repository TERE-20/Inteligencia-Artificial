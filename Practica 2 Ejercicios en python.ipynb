{
  "cells": [
    {
      "cell_type": "markdown",
      "metadata": {
        "id": "view-in-github",
        "colab_type": "text"
      },
      "source": [
        "<a href=\"https://colab.research.google.com/github/TERE-20/Inteligencia-Artificial/blob/main/Practica%202%20Ejercicios%20en%20python.ipynb\" target=\"_parent\"><img src=\"https://colab.research.google.com/assets/colab-badge.svg\" alt=\"Open In Colab\"/></a>"
      ]
    },
    {
      "cell_type": "markdown",
      "metadata": {
        "id": "P8LqNGjJhEWZ"
      },
      "source": [
        "# Evaluacion Diagnostica"
      ]
    },
    {
      "cell_type": "markdown",
      "metadata": {
        "id": "iCjITXYeXbXv"
      },
      "source": [
        "¿como se declara una lista en python?"
      ]
    },
    {
      "cell_type": "code",
      "execution_count": null,
      "metadata": {
        "colab": {
          "base_uri": "https://localhost:8080/"
        },
        "id": "Da_DLVU4XpWE",
        "outputId": "f86c3d1d-b531-4c0e-e0ef-fadff0e6fa3e"
      },
      "outputs": [
        {
          "name": "stdout",
          "output_type": "stream",
          "text": [
            "[1, 2, 3]\n"
          ]
        }
      ],
      "source": [
        "my_list=[1,2,3]\n",
        "print(my_list)"
      ]
    },
    {
      "cell_type": "markdown",
      "metadata": {
        "id": "BikydrqpX5uW"
      },
      "source": [
        "¿que funcion se usa para conocer el numero de elementos en una lista?"
      ]
    },
    {
      "cell_type": "code",
      "execution_count": null,
      "metadata": {
        "colab": {
          "base_uri": "https://localhost:8080/"
        },
        "id": "6Xll9hrhYDVp",
        "outputId": "d544e226-1a4e-4d48-e434-e2212e1408dc"
      },
      "outputs": [
        {
          "name": "stdout",
          "output_type": "stream",
          "text": [
            "3\n"
          ]
        }
      ],
      "source": [
        "print(len(my_list))"
      ]
    },
    {
      "cell_type": "markdown",
      "metadata": {
        "id": "qXIUFFWdWvFT"
      },
      "source": [
        "¿que resultado obtienes al ejecutar el siguiente codigo?"
      ]
    },
    {
      "cell_type": "code",
      "execution_count": null,
      "metadata": {
        "colab": {
          "base_uri": "https://localhost:8080/"
        },
        "id": "RJkTY9kRW6qc",
        "outputId": "6aa1da8b-a86a-43ae-9450-aa767625698c"
      },
      "outputs": [
        {
          "name": "stdout",
          "output_type": "stream",
          "text": [
            "[5, 4, 3, 2, 1]\n"
          ]
        }
      ],
      "source": [
        "a= [1,2,3,4,5]\n",
        "print(a[::-1])"
      ]
    },
    {
      "cell_type": "markdown",
      "metadata": {
        "id": "bC3xCHW2W8HT"
      },
      "source": [
        "¿cual es el resultado de la siguiente expresion?"
      ]
    },
    {
      "cell_type": "code",
      "execution_count": null,
      "metadata": {
        "colab": {
          "base_uri": "https://localhost:8080/",
          "height": 141
        },
        "id": "q_HmpF4zXEsM",
        "outputId": "eb2b4db2-ecd9-464b-b787-55b9feba6daa"
      },
      "outputs": [
        {
          "ename": "TypeError",
          "evalue": "can only concatenate str (not \"int\") to str",
          "output_type": "error",
          "traceback": [
            "\u001b[0;31m---------------------------------------------------------------------------\u001b[0m",
            "\u001b[0;31mTypeError\u001b[0m                                 Traceback (most recent call last)",
            "\u001b[0;32m<ipython-input-3-ecf93d8422a1>\u001b[0m in \u001b[0;36m<cell line: 1>\u001b[0;34m()\u001b[0m\n\u001b[0;32m----> 1\u001b[0;31m \u001b[0mprint\u001b[0m\u001b[0;34m(\u001b[0m\u001b[0;36m3\u001b[0m\u001b[0;34m*\u001b[0m\u001b[0;34m\"5\"\u001b[0m\u001b[0;34m+\u001b[0m\u001b[0;36m2\u001b[0m\u001b[0;34m)\u001b[0m\u001b[0;34m\u001b[0m\u001b[0;34m\u001b[0m\u001b[0m\n\u001b[0m",
            "\u001b[0;31mTypeError\u001b[0m: can only concatenate str (not \"int\") to str"
          ]
        }
      ],
      "source": [
        "print(3*\"5\"+2)"
      ]
    },
    {
      "cell_type": "markdown",
      "metadata": {
        "id": "JnkLk-aXYfwd"
      },
      "source": [
        "¿que salida genera el siguiente codigo?"
      ]
    },
    {
      "cell_type": "code",
      "execution_count": null,
      "metadata": {
        "colab": {
          "base_uri": "https://localhost:8080/"
        },
        "id": "Z3d4o6QTYlTQ",
        "outputId": "68c58fc0-6255-4629-b3fc-a416de9fdaa7"
      },
      "outputs": [
        {
          "name": "stdout",
          "output_type": "stream",
          "text": [
            "[1]\n",
            "[2]\n",
            "[1, 3]\n"
          ]
        }
      ],
      "source": [
        "def foo(x,y=[]):\n",
        "  y.append(x)\n",
        "  return y\n",
        "print(foo(1))\n",
        "print(foo(2, []))\n",
        "print(foo(3))"
      ]
    },
    {
      "cell_type": "markdown",
      "metadata": {
        "id": "r0HrXVZqZQoN"
      },
      "source": [
        "¿que resultado obtenemos al ejecutart el siguiente codigo?"
      ]
    },
    {
      "cell_type": "code",
      "execution_count": null,
      "metadata": {
        "colab": {
          "base_uri": "https://localhost:8080/"
        },
        "id": "iaw-IjwbZcz8",
        "outputId": "05461b03-e2ca-46da-dac7-a794c8694b5f"
      },
      "outputs": [
        {
          "name": "stdout",
          "output_type": "stream",
          "text": [
            "[2, 4, 6]\n"
          ]
        }
      ],
      "source": [
        "def multiply_list(numbers,factor):\n",
        "  result = []\n",
        "  for numeber in numbers:\n",
        "    result.append(numeber*factor)\n",
        "  return result\n",
        "\n",
        "my_list=[1,2,3]\n",
        "output= multiply_list(my_list,2)\n",
        "print(output)"
      ]
    },
    {
      "cell_type": "markdown",
      "metadata": {
        "id": "SkSVAlSOhbyX"
      },
      "source": [
        "# Practica de Python"
      ]
    },
    {
      "cell_type": "markdown",
      "metadata": {
        "id": "LIHDsyUthhzs"
      },
      "source": [
        "clasificacion de una lista con numeros pares e impares"
      ]
    },
    {
      "cell_type": "code",
      "execution_count": null,
      "metadata": {
        "id": "ZpYWNSdKh4Ar"
      },
      "outputs": [],
      "source": [
        "#declaracion  de varriables\n",
        "numeros =[10,20,25,36,98,77,34,89,58]\n",
        "pares = []\n",
        "impares = []"
      ]
    },
    {
      "cell_type": "code",
      "execution_count": null,
      "metadata": {
        "id": "uf2mPXFjjHDH"
      },
      "outputs": [],
      "source": [
        "#ciclo for para recorrer la lista\n",
        "for numero in numeros:\n",
        "  if numero % 2 == 0:\n",
        "\n",
        "    pares.append(numero)\n",
        "  else:\n",
        "      impares.append(numero)"
      ]
    },
    {
      "cell_type": "code",
      "execution_count": null,
      "metadata": {
        "colab": {
          "base_uri": "https://localhost:8080/"
        },
        "id": "EPVuBNbpkfiZ",
        "outputId": "b7612832-a601-4f86-fdda-14ff3b3334ea"
      },
      "outputs": [
        {
          "name": "stdout",
          "output_type": "stream",
          "text": [
            "pares:  [10, 20, 36, 98, 34, 58] total:  6\n",
            "impares:  [25, 77, 89] total:  3\n"
          ]
        }
      ],
      "source": [
        "#imprime de resultado\n",
        "print(\"pares: \", pares, \"total: \", len(pares))\n",
        "print(\"impares: \", impares, \"total: \", len(impares))"
      ]
    },
    {
      "cell_type": "code",
      "execution_count": null,
      "metadata": {
        "id": "o8sGdzDTmnzS"
      },
      "outputs": [],
      "source": [
        "# funcion suma de los numeros pares\n",
        "def sumapares(lista):\n",
        "  suma = 0\n",
        "  for numero in lista:\n",
        "    suma += numero\n",
        "  return suma"
      ]
    },
    {
      "cell_type": "code",
      "execution_count": null,
      "metadata": {
        "colab": {
          "base_uri": "https://localhost:8080/"
        },
        "id": "bax8gtGen-Vh",
        "outputId": "a9829047-b7fe-4765-831f-a6f4fdf90fd0"
      },
      "outputs": [
        {
          "name": "stdout",
          "output_type": "stream",
          "text": [
            "suma de pares 256\n",
            "suma de impares 191\n"
          ]
        }
      ],
      "source": [
        "# impresion de la suma\n",
        "print(\"suma de pares\", sumapares(pares))\n",
        "print(\"suma de impares\", sumapares(impares))"
      ]
    },
    {
      "cell_type": "markdown",
      "metadata": {
        "id": "h6qcZinqED5I"
      },
      "source": [
        "# Practica 2 - Ejercicios en python"
      ]
    },
    {
      "cell_type": "markdown",
      "metadata": {
        "id": "iwTjUWF6EKns"
      },
      "source": [
        "Un taller automotriz necesita llevar un control de su inventario de repuestos. Crea un programa que permita agregar, eliminar y consultar la cantidad de repuestos disponibles, así como realizar una compra cuando el inventario de un repuesto está bajo."
      ]
    },
    {
      "cell_type": "code",
      "execution_count": 22,
      "metadata": {
        "id": "M-G63lgDYSw_"
      },
      "outputs": [],
      "source": [
        "#almacena los repuestos\n",
        "inventario = []"
      ]
    },
    {
      "cell_type": "code",
      "source": [
        "#pregunta el numero de repuestos que se agregaran\n",
        "num_rep = int(input(\"cuantos repuestos agregar: \"))"
      ],
      "metadata": {
        "colab": {
          "base_uri": "https://localhost:8080/"
        },
        "id": "mJc5C98ssADl",
        "outputId": "d3c5a8b2-3dba-4b65-8f75-9ba2ed8f5a64"
      },
      "execution_count": 23,
      "outputs": [
        {
          "name": "stdout",
          "output_type": "stream",
          "text": [
            "cuantos repuestos agregar: 2\n"
          ]
        }
      ]
    },
    {
      "cell_type": "code",
      "source": [
        "#repite el numero veces que se da en num_rep\n",
        "for x in range(num_rep):\n",
        "  #Agrega los repuestos\n",
        "  texto = input(\"escribe el repuesto: \")\n",
        "  #agrega los repuestos en la lista\n",
        "  inventario.append(texto)\n",
        "  # guarda en reouestos en la lista de repuestos\n",
        "  repuestos = len(inventario)\n",
        "  #muestra el numero total de repuestos que se agregaron\n",
        "print(\"\\n el inventario tiene \",repuestos, \" repuestos\")\n",
        "#muestra la lista de repuestos que se agregaron\n",
        "print(\"en el inventario se agrego: \",inventario, \" repuestos\")"
      ],
      "metadata": {
        "colab": {
          "base_uri": "https://localhost:8080/"
        },
        "id": "wfyn4d2ysE8P",
        "outputId": "37711d61-5f87-4ff0-d2e8-0a86c9558184"
      },
      "execution_count": 24,
      "outputs": [
        {
          "output_type": "stream",
          "name": "stdout",
          "text": [
            "escribe el repuesto: frenos\n",
            "escribe el repuesto: motor\n",
            "\n",
            " el inventario tiene  2  repuestos\n",
            "en el inventario se agrego:  ['frenos', 'motor']  repuestos\n"
          ]
        }
      ]
    },
    {
      "cell_type": "code",
      "source": [
        "# se verifica si repuestos es es menor o igual a 5\n",
        "if repuestos <= 5:\n",
        "  #si es es menor a 5 muestra el mensaje de que se estan acabando y el numero de repuestos\n",
        "  print(\"\\n ESTADO DE INVENTARIO:\")\n",
        "  print(\"Los repuestos se estan acabando quedan \", repuestos)\n",
        "else:\n",
        "  #si es mayor a 5 muestra el mensaje y el numero de respuestos\n",
        "  print(\"Aun quedan repuestos \", repuestos)"
      ],
      "metadata": {
        "colab": {
          "base_uri": "https://localhost:8080/"
        },
        "id": "4J6yLn7KsLaT",
        "outputId": "fde7fbed-75ae-4196-b5db-6712f7b158dd"
      },
      "execution_count": 25,
      "outputs": [
        {
          "output_type": "stream",
          "name": "stdout",
          "text": [
            "\n",
            " ESTADO DE INVENTARIO:\n",
            "Los repuestos se estan acabando quedan  2\n"
          ]
        }
      ]
    },
    {
      "cell_type": "code",
      "source": [
        "#pide el nombre de lo que quiere consultar\n",
        "texto2 = input(\"que quiere consultar: \")"
      ],
      "metadata": {
        "colab": {
          "base_uri": "https://localhost:8080/"
        },
        "id": "R3MW3SWWsQ47",
        "outputId": "e946698c-c8c0-4c70-ae09-f3fad78b695b"
      },
      "execution_count": 26,
      "outputs": [
        {
          "name": "stdout",
          "output_type": "stream",
          "text": [
            "que quiere consultar: frenos\n"
          ]
        }
      ]
    },
    {
      "cell_type": "code",
      "source": [
        "#verifica si el repuesto ingresado esta en la lista\n",
        "if texto2 in inventario:\n",
        "  #obtiene el repuesto que se ingreso\n",
        "  buscar= inventario.index(texto2)\n",
        "  #si el repuesto esta en la lista se muestra el mensaje\n",
        "  print(\"\\n CONSULTA:\")\n",
        "  print(\"el repuesto \",texto2, \" esta en los repuestos\", repuestos)\n",
        "else:\n",
        "  #si no esta muestra que no esta ese respaldo\n",
        "  print(\"\\n CONSULTA:\")\n",
        "  print(\"el repuesto no esta en los repuestos\")"
      ],
      "metadata": {
        "colab": {
          "base_uri": "https://localhost:8080/"
        },
        "id": "OlGWYqppsUrz",
        "outputId": "178cb047-671c-401a-c1e0-e731fd57b1ff"
      },
      "execution_count": 27,
      "outputs": [
        {
          "output_type": "stream",
          "name": "stdout",
          "text": [
            "\n",
            " CONSULTA:\n",
            "el repuesto  frenos  esta en los repuestos 2\n"
          ]
        }
      ]
    },
    {
      "cell_type": "code",
      "source": [
        "#elimina el repuesto que se escribe\n",
        "texto3 = input(\"que repuesto se quiere eliminar:\")\n",
        "#elimina el repuesto\n",
        "eliminar= inventario.remove(texto3)\n",
        "  #muestra el repuesto que se elimino\n",
        "print(\"\\n ELIMINADO:\")\n",
        "print(\"el repuesto \",texto2, \" fue eliminado de repuestos\")\n",
        "print(\"los repuestos que quedan son: \",inventario, \" repuestos\")"
      ],
      "metadata": {
        "colab": {
          "base_uri": "https://localhost:8080/"
        },
        "id": "BVduAQvLsZas",
        "outputId": "b5247818-3e3c-45ab-b9f7-b0644f6dd8e4"
      },
      "execution_count": 28,
      "outputs": [
        {
          "output_type": "stream",
          "name": "stdout",
          "text": [
            "que repuesto se quiere eliminar:frenos\n",
            "\n",
            " ELIMINADO:\n",
            "el repuesto  frenos  fue eliminado de repuestos\n",
            "los repuestos que quedan son:  ['motor']  repuestos\n"
          ]
        }
      ]
    },
    {
      "cell_type": "markdown",
      "metadata": {
        "id": "mGQ_QnQoEPwo"
      },
      "source": [
        "Una empresa de servicios a terceros ofrece proyectos de consultoría y debe llevar el control de horas trabajadas por sus empleados en diferentes proyectos. Crea un programa que calcule las horas totales trabajadas por cada empleado en varios proyectos y su costo total en función de la tarifa por hora."
      ]
    },
    {
      "cell_type": "code",
      "execution_count": 1,
      "metadata": {
        "id": "nZRVtnGNGRxb"
      },
      "outputs": [],
      "source": [
        "#almacena el total de horas trabajdas\n",
        "calcular=[]"
      ]
    },
    {
      "cell_type": "code",
      "source": [
        "#pregunta los dias que se trabajo\n",
        "diasT = int(input(\"cuantos dias trabajo?: \"))"
      ],
      "metadata": {
        "colab": {
          "base_uri": "https://localhost:8080/"
        },
        "id": "uddrr4faRRer",
        "outputId": "b53b73ab-5307-4e74-e885-eb617be7887a"
      },
      "execution_count": 2,
      "outputs": [
        {
          "name": "stdout",
          "output_type": "stream",
          "text": [
            "cuantos dias trabajo?: 5\n"
          ]
        }
      ]
    },
    {
      "cell_type": "code",
      "source": [
        "#se repite hasta llegar al numero que se indico de los dias que se trabajaron\n",
        "for x in range(diasT):\n",
        "  #indica que ingrese las horas que se trabajo por dia\n",
        "   total = int(input(f\"Horas trabajadas en el dia {x + 1}: \"))\n",
        "   #se agrega las horas trabajadas\n",
        "   calcular.append(total)\n",
        "   #agrega los dias que se trabadaron\n",
        "   dias = len(calcular)\n",
        "   #suma las horas trabajadas\n",
        "   suma= sum(calcular)"
      ],
      "metadata": {
        "colab": {
          "base_uri": "https://localhost:8080/"
        },
        "id": "AMKA1shBRWbg",
        "outputId": "da7d1bff-91a1-46ea-e965-370bfcd77026"
      },
      "execution_count": 3,
      "outputs": [
        {
          "name": "stdout",
          "output_type": "stream",
          "text": [
            "Horas trabajadas en el dia 1: 12\n",
            "Horas trabajadas en el dia 2: 12\n",
            "Horas trabajadas en el dia 3: 30\n",
            "Horas trabajadas en el dia 4: 1\n",
            "Horas trabajadas en el dia 5: 2\n"
          ]
        }
      ]
    },
    {
      "cell_type": "code",
      "source": [
        "#imprime los dias, horas y costo\n",
        "print(f\"El total de {dias} dias con {suma} horas tiene un costo de ${round(suma *87)} por hora\")"
      ],
      "metadata": {
        "colab": {
          "base_uri": "https://localhost:8080/"
        },
        "id": "Manvam56RkZC",
        "outputId": "709133ac-b9ef-49b5-fff1-371bfb905b18"
      },
      "execution_count": 4,
      "outputs": [
        {
          "output_type": "stream",
          "name": "stdout",
          "text": [
            "El total de 5 dias con 57 horas tiene un costo de $4959 por hora\n"
          ]
        }
      ]
    }
  ],
  "metadata": {
    "colab": {
      "provenance": [],
      "authorship_tag": "ABX9TyOL4eyjXQAoMF4z9T5lqldO",
      "include_colab_link": true
    },
    "kernelspec": {
      "display_name": "Python 3",
      "name": "python3"
    },
    "language_info": {
      "name": "python"
    }
  },
  "nbformat": 4,
  "nbformat_minor": 0
}