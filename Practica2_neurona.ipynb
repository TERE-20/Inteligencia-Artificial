{
  "nbformat": 4,
  "nbformat_minor": 0,
  "metadata": {
    "colab": {
      "provenance": [],
      "authorship_tag": "ABX9TyM/iIrJO0GnafiAmtCmHAkD",
      "include_colab_link": true
    },
    "kernelspec": {
      "name": "python3",
      "display_name": "Python 3"
    },
    "language_info": {
      "name": "python"
    }
  },
  "cells": [
    {
      "cell_type": "markdown",
      "metadata": {
        "id": "view-in-github",
        "colab_type": "text"
      },
      "source": [
        "<a href=\"https://colab.research.google.com/github/TERE-20/Inteligencia-Artificial/blob/main/Practica2_neurona.ipynb\" target=\"_parent\"><img src=\"https://colab.research.google.com/assets/colab-badge.svg\" alt=\"Open In Colab\"/></a>"
      ]
    },
    {
      "cell_type": "markdown",
      "source": [
        "#Neurona aprendizaje compurta AND\n",
        "\n",
        "\n",
        "0 0 --> 0\n",
        "\n",
        "0 1 --> 0\n",
        "\n",
        "1 0 --> 0\n",
        "\n",
        "1 1 --> 1\n"
      ],
      "metadata": {
        "id": "3sTmG6dF41Tz"
      }
    },
    {
      "cell_type": "code",
      "execution_count": 5,
      "metadata": {
        "id": "0Nx2PsO7zAgR",
        "colab": {
          "base_uri": "https://localhost:8080/"
        },
        "outputId": "7bf37d46-6266-4972-81c3-dc9c1c086bb9"
      },
      "outputs": [
        {
          "output_type": "stream",
          "name": "stdout",
          "text": [
            "1.5\n",
            "1 AND 1 = 1\n"
          ]
        }
      ],
      "source": [
        "x=[1,1]\n",
        "w=[2,2]\n",
        "s=-2.5\n",
        "y=0\n",
        "for i in range(0,2):\n",
        "  s=s+x[i]*w[i]\n",
        "print(s)\n",
        "\n",
        "y=1 if s>0 else 0\n",
        "print(x[0],'AND',x[1],'=',y)"
      ]
    },
    {
      "cell_type": "markdown",
      "source": [
        "*Se modifico w con los numeros 2 en el peso y tambien se cambio los numeros de S a -2.5*"
      ],
      "metadata": {
        "id": "n9E-kPqe3IPm"
      }
    }
  ]
}