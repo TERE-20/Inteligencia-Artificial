{
  "nbformat": 4,
  "nbformat_minor": 0,
  "metadata": {
    "colab": {
      "provenance": [],
      "toc_visible": true,
      "authorship_tag": "ABX9TyMYb13uDqaZH/eeyb2YiuXl",
      "include_colab_link": true
    },
    "kernelspec": {
      "name": "python3",
      "display_name": "Python 3"
    },
    "language_info": {
      "name": "python"
    }
  },
  "cells": [
    {
      "cell_type": "markdown",
      "metadata": {
        "id": "view-in-github",
        "colab_type": "text"
      },
      "source": [
        "<a href=\"https://colab.research.google.com/github/TERE-20/Inteligencia-Artificial/blob/main/EvaluacionDiagnostica.ipynb\" target=\"_parent\"><img src=\"https://colab.research.google.com/assets/colab-badge.svg\" alt=\"Open In Colab\"/></a>"
      ]
    },
    {
      "cell_type": "markdown",
      "source": [
        "¿como se declara una lista en python?"
      ],
      "metadata": {
        "id": "iCjITXYeXbXv"
      }
    },
    {
      "cell_type": "code",
      "source": [
        "my_list=[1,2,3]\n",
        "print(my_list)"
      ],
      "metadata": {
        "colab": {
          "base_uri": "https://localhost:8080/"
        },
        "id": "Da_DLVU4XpWE",
        "outputId": "f86c3d1d-b531-4c0e-e0ef-fadff0e6fa3e"
      },
      "execution_count": 5,
      "outputs": [
        {
          "output_type": "stream",
          "name": "stdout",
          "text": [
            "[1, 2, 3]\n"
          ]
        }
      ]
    },
    {
      "cell_type": "markdown",
      "source": [
        "¿que funcion se usa para conocer el numero de elementos en una lista?"
      ],
      "metadata": {
        "id": "BikydrqpX5uW"
      }
    },
    {
      "cell_type": "code",
      "source": [
        "print(len(my_list))"
      ],
      "metadata": {
        "colab": {
          "base_uri": "https://localhost:8080/"
        },
        "id": "6Xll9hrhYDVp",
        "outputId": "d544e226-1a4e-4d48-e434-e2212e1408dc"
      },
      "execution_count": 6,
      "outputs": [
        {
          "output_type": "stream",
          "name": "stdout",
          "text": [
            "3\n"
          ]
        }
      ]
    },
    {
      "cell_type": "markdown",
      "source": [
        "¿que resultado obtienes al ejecutar el siguiente codigo?"
      ],
      "metadata": {
        "id": "qXIUFFWdWvFT"
      }
    },
    {
      "cell_type": "code",
      "source": [
        "a= [1,2,3,4,5]\n",
        "print(a[::-1])"
      ],
      "metadata": {
        "colab": {
          "base_uri": "https://localhost:8080/"
        },
        "id": "RJkTY9kRW6qc",
        "outputId": "6aa1da8b-a86a-43ae-9450-aa767625698c"
      },
      "execution_count": 2,
      "outputs": [
        {
          "output_type": "stream",
          "name": "stdout",
          "text": [
            "[5, 4, 3, 2, 1]\n"
          ]
        }
      ]
    },
    {
      "cell_type": "markdown",
      "source": [
        "¿cual es el resultado de la siguiente expresion?"
      ],
      "metadata": {
        "id": "bC3xCHW2W8HT"
      }
    },
    {
      "cell_type": "code",
      "source": [
        "print(3*\"5\"+2)"
      ],
      "metadata": {
        "colab": {
          "base_uri": "https://localhost:8080/",
          "height": 141
        },
        "id": "q_HmpF4zXEsM",
        "outputId": "eb2b4db2-ecd9-464b-b787-55b9feba6daa"
      },
      "execution_count": 3,
      "outputs": [
        {
          "output_type": "error",
          "ename": "TypeError",
          "evalue": "can only concatenate str (not \"int\") to str",
          "traceback": [
            "\u001b[0;31m---------------------------------------------------------------------------\u001b[0m",
            "\u001b[0;31mTypeError\u001b[0m                                 Traceback (most recent call last)",
            "\u001b[0;32m<ipython-input-3-ecf93d8422a1>\u001b[0m in \u001b[0;36m<cell line: 1>\u001b[0;34m()\u001b[0m\n\u001b[0;32m----> 1\u001b[0;31m \u001b[0mprint\u001b[0m\u001b[0;34m(\u001b[0m\u001b[0;36m3\u001b[0m\u001b[0;34m*\u001b[0m\u001b[0;34m\"5\"\u001b[0m\u001b[0;34m+\u001b[0m\u001b[0;36m2\u001b[0m\u001b[0;34m)\u001b[0m\u001b[0;34m\u001b[0m\u001b[0;34m\u001b[0m\u001b[0m\n\u001b[0m",
            "\u001b[0;31mTypeError\u001b[0m: can only concatenate str (not \"int\") to str"
          ]
        }
      ]
    },
    {
      "cell_type": "markdown",
      "source": [
        "¿que salida genera el siguiente codigo?"
      ],
      "metadata": {
        "id": "JnkLk-aXYfwd"
      }
    },
    {
      "cell_type": "code",
      "source": [
        "def foo(x,y=[]):\n",
        "  y.append(x)\n",
        "  return y\n",
        "print(foo(1))\n",
        "print(foo(2, []))\n",
        "print(foo(3))"
      ],
      "metadata": {
        "colab": {
          "base_uri": "https://localhost:8080/"
        },
        "id": "Z3d4o6QTYlTQ",
        "outputId": "68c58fc0-6255-4629-b3fc-a416de9fdaa7"
      },
      "execution_count": 26,
      "outputs": [
        {
          "output_type": "stream",
          "name": "stdout",
          "text": [
            "[1]\n",
            "[2]\n",
            "[1, 3]\n"
          ]
        }
      ]
    },
    {
      "cell_type": "markdown",
      "source": [
        "¿que resultado obtenemos al ejecutart el siguiente codigo?"
      ],
      "metadata": {
        "id": "r0HrXVZqZQoN"
      }
    },
    {
      "cell_type": "code",
      "source": [
        "def multiply_list(numbers,factor):\n",
        "  result = []\n",
        "  for numeber in numbers:\n",
        "    result.append(numeber*factor)\n",
        "  return result\n",
        "\n",
        "my_list=[1,2,3]\n",
        "output= multiply_list(my_list,2)\n",
        "print(output)"
      ],
      "metadata": {
        "colab": {
          "base_uri": "https://localhost:8080/"
        },
        "id": "iaw-IjwbZcz8",
        "outputId": "05461b03-e2ca-46da-dac7-a794c8694b5f"
      },
      "execution_count": 32,
      "outputs": [
        {
          "output_type": "stream",
          "name": "stdout",
          "text": [
            "[2, 4, 6]\n"
          ]
        }
      ]
    }
  ]
}